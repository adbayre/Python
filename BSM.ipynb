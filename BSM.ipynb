{
 "cells": [
  {
   "cell_type": "markdown",
   "id": "e22fed77",
   "metadata": {},
   "source": [
    "## Black Scholes model\n",
    "\n",
    "*This exploratory notebook is a base for an option pricer app with visualizations and other features.*\n",
    "\n",
    "The Black Scholes equation is a PDE that governs the price of a derivative.\n",
    "\n",
    "---\n",
    "\n",
    "$$\\frac{\\partial C}{\\partial t}+\\frac{1}{2}\\sigma^2S^2\\frac{\\partial^2 C}{\\partial S^2} + rS\\frac{\\partial C}{\\partial S}-rC=0$$\n",
    "\n",
    "With C the price of some derivative."
   ]
  },
  {
   "cell_type": "markdown",
   "id": "d392b019",
   "metadata": {},
   "source": [
    "---\n",
    "\n",
    "6 variables:\n",
    "\n",
    "- $S$: Underlying asset current price.\n",
    "- $K$: Strike price of the option.\n",
    "- $T$: Time to maturity in years.\n",
    "- $r$: Risk-free interest rate.\n",
    "- $\\sigma$: Volatility of the underlying (standard deviation).\n",
    "- $q$: Dividend yield.\n",
    "\n",
    "Call option value:\n",
    "\n",
    "$$C=Se^{-qT}N(d_1)-Ke^{-rT}N(d_2)$$\n",
    "\n",
    "Put option value:\n",
    "\n",
    "$$P=Ke^{-rT}N(-d_2)-Se^{-qT}N(-d_1)$$\n",
    "\n",
    "---\n",
    "\n",
    "$$d_1=\\frac{\\mathrm{ln}(\\frac{S}{K})+(r-q+0.5\\sigma^2)T}{\\sigma \\sqrt{T}}$$\n",
    "\n",
    "$$d_2=d_1-\\sigma \\sqrt{T}$$\n",
    "\n"
   ]
  },
  {
   "cell_type": "code",
   "execution_count": 3,
   "id": "3fa002b3",
   "metadata": {},
   "outputs": [],
   "source": [
    "import jax.numpy as jnp\n",
    "from jax import grad\n",
    "from jax.scipy.stats import norm as jnorm\n",
    "def blackScholes(r, S, K, T, sigma, q=0,type=\"C\"):\n",
    "    \"Calculate BSM option price for a call/put\"\n",
    "    d1 = (jnp.log(S/K) + (r-q+0.5*sigma**2)*T)/(sigma*jnp.sqrt(T))\n",
    "    d2 = d1 - sigma*jnp.sqrt(T)\n",
    "    try:\n",
    "        if type==\"C\":\n",
    "            price=S*jnp.exp(-q*T)*jnorm.cdf(d1, 0, 1) - K*jnp.exp(-r*T)*jnorm.cdf(d2, 0, 1)\n",
    "        elif type==\"P\":\n",
    "            price=K*jnp.exp(-r*T)*jnorm.cdf(-d2, 0, 1) - S*jnp.exp(-q*T)*jnorm.cdf(-d1, 0, 1)\n",
    "        return price\n",
    "    except:\n",
    "        print(\"Please confirm all option parameters.\")\n"
   ]
  },
  {
   "cell_type": "code",
   "execution_count": 8,
   "id": "2933a7b2",
   "metadata": {},
   "outputs": [
    {
     "name": "stdout",
     "output_type": "stream",
     "text": [
      "Option price is: 4.83\n"
     ]
    }
   ],
   "source": [
    "S=100.0\n",
    "K=110.0\n",
    "T=0.8\n",
    "r=0.05\n",
    "sigma=0.2\n",
    "q=0.0\n",
    "\n",
    "print(\"Option price is:\", round(blackScholes(r, S, K, T, sigma, type=\"C\"), 2))"
   ]
  },
  {
   "cell_type": "markdown",
   "id": "d78a8351",
   "metadata": {},
   "source": [
    "## Greeks:\n",
    "\n",
    "- $\\Delta=\\frac{\\partial C}{\\partial S}$ represents the variation of the option price when the underlying price changes. (1)\n",
    "\n",
    "- $\\Gamma =\\frac{\\partial^2C}{\\partial S^2}=\\frac{\\partial \\Delta}{\\partial S}$ represents the variation of the option price when the volatility changes. (2)\n",
    "\n",
    "- $\\Theta=\\frac{\\partial C}{\\partial T}$ represents the variation of the option price when the time to maturity changes. (3)\n",
    "\n",
    "- $\\rho=\\frac{\\partial C}{\\partial \\sigma}$ represents the variation of the option price when the interest rate changes. (4)\n",
    "\n",
    "- $\\nu = \\frac{\\partial C}{\\partial \\sigma}$ represents the variation of the option price when the volatility changes. (5)"
   ]
  },
  {
   "cell_type": "code",
   "execution_count": null,
   "id": "1e27c2c1",
   "metadata": {},
   "outputs": [],
   "source": [
    "# Computing of the greeks\n",
    "\n",
    "jax_delta = grad(blackScholes, argnums=1)\n",
    "\n",
    "jax_gamma = grad(jax_delta, argnums=1)\n",
    "\n",
    "jax_vega = grad(blackScholes, argnums=4)\n",
    "\n",
    "jax_rho = grad(blackScholes, argnums=0)\n",
    "\n",
    "jax_theta = grad(blackScholes, argnums=3)"
   ]
  },
  {
   "cell_type": "code",
   "execution_count": 12,
   "id": "7300735d",
   "metadata": {},
   "outputs": [
    {
     "name": "stdout",
     "output_type": "stream",
     "text": [
      "0.4130328 0.021769531 34.83124 29.176401 -6.17743\n"
     ]
    }
   ],
   "source": [
    "delta = jax_delta(r, S, K, T, sigma, q=0,type=\"C\")\n",
    "gamma = jax_gamma(r, S, K, T, sigma, q=0,type=\"C\")\n",
    "vega = jax_vega(r, S, K, T, sigma, q=0,type=\"C\")\n",
    "rho = jax_rho(r, S, K, T, sigma, q=0,type=\"C\")\n",
    "theta = -jax_theta(r, S, K, T, sigma, q=0,type=\"C\")\n",
    "print(delta, gamma, vega, rho, theta)"
   ]
  },
  {
   "cell_type": "markdown",
   "id": "c5a95a2e",
   "metadata": {},
   "source": [
    "## Implied volatility \n",
    "\n",
    "Putting a clear value on the volatility of an asset is not as simple as knowing the value of the other variables involved in the black scholes model.\n",
    "\n",
    "---\n",
    "\n",
    "The baseline is that the *market value of the option implies a value for the volatility*."
   ]
  },
  {
   "cell_type": "code",
   "execution_count": 14,
   "id": "fe73b350",
   "metadata": {},
   "outputs": [],
   "source": [
    "def loss(r, S, K, T, sigma_guess, price, q=0, type=\"C\"):\n",
    "    \n",
    "    # Price with a guess for vol\n",
    "    theoretical_price = blackScholes(r, S, K, T, sigma_guess, q, type)\n",
    "    # Price the option is selling at\n",
    "    market_price = price\n",
    "\n",
    "    # Loss is the difference between the theoretical price and the actual price\n",
    "    # The goal is to minimize the loss function\n",
    "    return theoretical_price - market_price\n",
    "loss_grad = grad(loss, argnums=4)"
   ]
  },
  {
   "cell_type": "markdown",
   "id": "1c1222de",
   "metadata": {},
   "source": [
    "We can use the Newton Raphson numerical method.\n",
    "\n",
    "$x^g$ is the guess for vol.\n",
    "\n",
    "$x_{n+1}^g=x_n^g-\\frac{f(x_n^g)}{f'(x_n^g)}$\n",
    "\n",
    "$f(x_n^g)$ represents the loss function. The difference between:\n",
    "\n",
    "- $P_{theory}$: Theoretical price using the volatility guess.\n",
    "\n",
    "- $P_{market}$: Market price.\n",
    "\n",
    "$f'(x_n^g)$ is the gradient of the loss function.\n",
    "\n",
    "$$\\sigma_{n+1}=\\sigma_n-\\frac{\\mathcal{L}(\\sigma_n)}{\\frac{\\partial\\mathcal{L}}{\\partial\\sigma}}$$\n",
    "\n",
    "Where $\\mathcal{L}$ represents the loss function."
   ]
  },
  {
   "cell_type": "code",
   "execution_count": null,
   "id": "8018da75",
   "metadata": {},
   "outputs": [],
   "source": []
  }
 ],
 "metadata": {
  "kernelspec": {
   "display_name": ".venv",
   "language": "python",
   "name": "python3"
  },
  "language_info": {
   "codemirror_mode": {
    "name": "ipython",
    "version": 3
   },
   "file_extension": ".py",
   "mimetype": "text/x-python",
   "name": "python",
   "nbconvert_exporter": "python",
   "pygments_lexer": "ipython3",
   "version": "3.13.5"
  }
 },
 "nbformat": 4,
 "nbformat_minor": 5
}
